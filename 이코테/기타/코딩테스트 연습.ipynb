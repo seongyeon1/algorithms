{
 "cells": [
  {
   "cell_type": "markdown",
   "metadata": {},
   "source": [
    "## 배열 만들기 3"
   ]
  },
  {
   "cell_type": "code",
   "execution_count": 2,
   "metadata": {},
   "outputs": [],
   "source": [
    "arr = [1, 2, 3, 4, 5]\t\n",
    "intervals = [[1, 3], [0, 4]]\n",
    "# result = [2, 3, 4, 1, 2, 3, 4, 5]"
   ]
  },
  {
   "cell_type": "code",
   "execution_count": 9,
   "metadata": {},
   "outputs": [
    {
     "name": "stdout",
     "output_type": "stream",
     "text": [
      "Writing 배열만들기3.py\n"
     ]
    }
   ],
   "source": [
    "%%writefile 배열만들기3.py\n",
    "\n",
    "def solution1(arr, intervals):\n",
    "    answer = []\n",
    "    for interval in intervals:\n",
    "        for i in range(interval[0], interval[1]+1):\n",
    "            answer.append(arr[i])\n",
    "    return answer\n",
    "\n",
    "def solution2(arr, intervals):\n",
    "    answer = []\n",
    "    for interval in intervals:\n",
    "        for i in range(interval[0], interval[1]+1):\n",
    "            answer.append(arr[i])\n",
    "    return answer\n",
    "\n",
    "def solution3(arr, intervals):\n",
    "    s1, e1 = intervals[0]\n",
    "    s2, e2 = intervals[1]\n",
    "    return arr[s1:e1+1] + arr[s2:e2+1]"
   ]
  },
  {
   "cell_type": "markdown",
   "metadata": {},
   "source": [
    "## 이진 탐색 구현해보기"
   ]
  },
  {
   "cell_type": "code",
   "execution_count": 10,
   "metadata": {},
   "outputs": [],
   "source": [
    "def solution(L, x):\n",
    "    answer = -1\n",
    "    # upper, lower 설정\n",
    "    upper, lower = 0, len(L) - 1\n",
    "    \n",
    "    while upper <= lower:\n",
    "        # middle은 upper과 lower의 중간\n",
    "        middle = (upper + lower) // 2\n",
    "        \n",
    "        if middle < x:\n",
    "            lower = middle\n",
    "        elif middle > x:\n",
    "            upper = middle\n",
    "        else:\n",
    "            return middle\n",
    "    \n",
    "    return answer"
   ]
  },
  {
   "cell_type": "code",
   "execution_count": 32,
   "metadata": {},
   "outputs": [],
   "source": [
    "L = [2, 3, 6, 9, 11, 15]\n",
    "x = 6\n",
    "# solution(L, x)"
   ]
  },
  {
   "cell_type": "code",
   "execution_count": 33,
   "metadata": {},
   "outputs": [
    {
     "data": {
      "text/plain": [
       "[2, 3, 6, 9, 11, 15]"
      ]
     },
     "execution_count": 33,
     "metadata": {},
     "output_type": "execute_result"
    }
   ],
   "source": [
    "L"
   ]
  },
  {
   "cell_type": "code",
   "execution_count": 38,
   "metadata": {},
   "outputs": [
    {
     "name": "stdout",
     "output_type": "stream",
     "text": [
      "2\n"
     ]
    }
   ],
   "source": [
    "def solution(L, x):\n",
    "    l, u = 0, len(L) - 1\n",
    "    \n",
    "    while l <= u:\n",
    "        m = (u + l) // 2\n",
    "\n",
    "        if L[m] == x:\n",
    "            return m\n",
    "            \n",
    "        elif L[m] > x:\n",
    "            u = m - 1\n",
    "            continue\n",
    "        else:\n",
    "            l = m + 1\n",
    "    \n",
    "    return -1"
   ]
  },
  {
   "cell_type": "code",
   "execution_count": 39,
   "metadata": {},
   "outputs": [
    {
     "data": {
      "text/plain": [
       "(5, 0)"
      ]
     },
     "execution_count": 39,
     "metadata": {},
     "output_type": "execute_result"
    }
   ],
   "source": [
    "upper, lower"
   ]
  },
  {
   "cell_type": "code",
   "execution_count": 40,
   "metadata": {},
   "outputs": [
    {
     "data": {
      "text/plain": [
       "2"
      ]
     },
     "execution_count": 40,
     "metadata": {},
     "output_type": "execute_result"
    }
   ],
   "source": [
    "middle"
   ]
  },
  {
   "cell_type": "markdown",
   "metadata": {},
   "source": [
    "## 재귀 알고리즘 구현\n",
    "- Trivial Case 고려하자\n",
    "- 효율성 측면에서는 loop가 더 좋을 수 있음"
   ]
  },
  {
   "cell_type": "markdown",
   "metadata": {},
   "source": [
    "## 재귀 알고리즘의 유용성\n",
    "- 문제 : 하노이의 탑\n",
    "- 재귀적 이진 탐색"
   ]
  },
  {
   "cell_type": "code",
   "execution_count": 41,
   "metadata": {},
   "outputs": [],
   "source": [
    "class Node:\n",
    "    def __init__(self, item):\n",
    "        self.data = item\n",
    "        self.next = None\n",
    "\n",
    "class LinkedList:\n",
    "    def __init__(self):\n",
    "        self.nodeCount = 0\n",
    "        self.head = None\n",
    "        self.tail = None\n",
    "\n",
    "    def getAt(self, pos):\n",
    "        if pos < 1 or pos > self.nodeCount:\n",
    "            return None\n",
    "        i = 1\n",
    "        curr = self.head\n",
    "        while i < pos:\n",
    "            curr = curr.next\n",
    "            i += 1\n",
    "        return curr\n",
    "\n",
    "    def traverse(self):\n",
    "        curr = self.head\n",
    "        data = []\n",
    "        while curr != None:\n",
    "            data.append(curr.data)\n",
    "            curr = curr.next\n",
    "        return data\n",
    "\n",
    "\n",
    "# 이 solution 함수는 그대로 두어야 합니다.\n",
    "def solution(x):\n",
    "    return 0"
   ]
  },
  {
   "cell_type": "code",
   "execution_count": null,
   "metadata": {},
   "outputs": [],
   "source": []
  }
 ],
 "metadata": {
  "kernelspec": {
   "display_name": "tab",
   "language": "python",
   "name": "python3"
  },
  "language_info": {
   "codemirror_mode": {
    "name": "ipython",
    "version": 3
   },
   "file_extension": ".py",
   "mimetype": "text/x-python",
   "name": "python",
   "nbconvert_exporter": "python",
   "pygments_lexer": "ipython3",
   "version": "3.8.16"
  }
 },
 "nbformat": 4,
 "nbformat_minor": 2
}
