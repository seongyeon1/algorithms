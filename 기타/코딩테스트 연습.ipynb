{
 "cells": [
  {
   "cell_type": "markdown",
   "metadata": {},
   "source": [
    "## 배열 만들기 3"
   ]
  },
  {
   "cell_type": "code",
   "execution_count": 2,
   "metadata": {},
   "outputs": [],
   "source": [
    "arr = [1, 2, 3, 4, 5]\t\n",
    "intervals = [[1, 3], [0, 4]]\n",
    "# result = [2, 3, 4, 1, 2, 3, 4, 5]"
   ]
  },
  {
   "cell_type": "code",
   "execution_count": 9,
   "metadata": {},
   "outputs": [
    {
     "name": "stdout",
     "output_type": "stream",
     "text": [
      "Writing 배열만들기3.py\n"
     ]
    }
   ],
   "source": [
    "%%writefile 배열만들기3.py\n",
    "\n",
    "def solution1(arr, intervals):\n",
    "    answer = []\n",
    "    for interval in intervals:\n",
    "        for i in range(interval[0], interval[1]+1):\n",
    "            answer.append(arr[i])\n",
    "    return answer\n",
    "\n",
    "def solution2(arr, intervals):\n",
    "    answer = []\n",
    "    for interval in intervals:\n",
    "        for i in range(interval[0], interval[1]+1):\n",
    "            answer.append(arr[i])\n",
    "    return answer\n",
    "\n",
    "def solution3(arr, intervals):\n",
    "    s1, e1 = intervals[0]\n",
    "    s2, e2 = intervals[1]\n",
    "    return arr[s1:e1+1] + arr[s2:e2+1]"
   ]
  }
 ],
 "metadata": {
  "kernelspec": {
   "display_name": "tab",
   "language": "python",
   "name": "python3"
  },
  "language_info": {
   "codemirror_mode": {
    "name": "ipython",
    "version": 3
   },
   "file_extension": ".py",
   "mimetype": "text/x-python",
   "name": "python",
   "nbconvert_exporter": "python",
   "pygments_lexer": "ipython3",
   "version": "3.8.16"
  }
 },
 "nbformat": 4,
 "nbformat_minor": 2
}
