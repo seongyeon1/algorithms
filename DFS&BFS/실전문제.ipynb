{
 "cells": [
  {
   "cell_type": "markdown",
   "metadata": {},
   "source": [
    "## 음료수 얼려 먹기 (DFS)\n",
    "1. 특정한 지점의 주변 상하좌우를 살펴본 뒤에 주변 지점 중에서 값이 '0'이면서 아직 방문하지 않은 지점이 있다면 해당 지점을 방문한다.\n",
    "2. 방문한 지점에서 다시 상하좌우를 살펴보면서 방문을 다시 진행하면 연결된 모든 지점을 방문할 수 있다\n",
    "3. 1~2번의 과정을 모든 노드에 반목하며 방문하지 않은 지점의 수를 센다."
   ]
  },
  {
   "cell_type": "code",
   "execution_count": 3,
   "metadata": {},
   "outputs": [
    {
     "name": "stdout",
     "output_type": "stream",
     "text": [
      "Writing 음료수얼려먹기.py\n"
     ]
    }
   ],
   "source": [
    "%%writefile 음료수얼려먹기.py\n",
    "# N, M을 공백으로 구분하여 입력받기\n",
    "n, m = map(int, input().split())\n",
    "\n",
    "# 2차원 리스트의 맵 정보 입력받기\n",
    "graph = []\n",
    "for i in range(n):\n",
    "    graph.append(list(map(int, input())))\n",
    "\n",
    "# DFS로 특정한 노드를 방문한 뒤에 연결된 모든 노드들도 방문\n",
    "def dfs(x, y):\n",
    "    # 주어진 범위를 벗어나는 경우에는 즉시 종료\n",
    "    if x <= -1 or x >= n or y <= -1 or y >= m:\n",
    "        return False\n",
    "    # 현재 노드를 아직 방문하지 않았다면\n",
    "    if graph[x][y] == 0:\n",
    "        # 해당 노드 방문 처리\n",
    "        graph[x][y] = 1\n",
    "        # 상, 하, 좌, 우의 위치도 모두 재귀적으로 호출\n",
    "        dfs(x - 1, y)\n",
    "        dfs(x, y - 1)\n",
    "        dfs(x + 1, y)\n",
    "        dfs(x, y + 1)\n",
    "        return True\n",
    "    return False\n",
    "\n",
    "# 모든 노드(위치)에 대하여 음료수 채우기\n",
    "result = 0\n",
    "for i in range(n):\n",
    "    for j in range(m):\n",
    "        # 현재 위치에서 DFS 수행\n",
    "        if dfs(i, j) == True:\n",
    "            result += 1\n",
    "\n",
    "print(result) # 정답 출력"
   ]
  },
  {
   "cell_type": "markdown",
   "metadata": {},
   "source": [
    "### 미로 탈출(BFS)"
   ]
  },
  {
   "cell_type": "code",
   "execution_count": 4,
   "metadata": {},
   "outputs": [
    {
     "name": "stdout",
     "output_type": "stream",
     "text": [
      "Writing 미로탈출.py\n"
     ]
    }
   ],
   "source": [
    "%%writefile 미로탈출.py\n",
    "from collections import deque\n",
    "\n",
    "# N, M을 공백으로 구분하여 입력받기\n",
    "n, m = map(int, input().split())\n",
    "\n",
    "# 2차원 리스트의 맵 정보 입력받기\n",
    "graph = []\n",
    "for i in range(n):\n",
    "    graph.append(list(map(int, input())))\n",
    "\n",
    "# 이동할 네 방향 정의(상, 하, 좌, 우)\n",
    "dx = [-1, 1, 0, 0]\n",
    "dy = [0, 0, -1, 1]\n",
    "\n",
    "# BFS 소스코드 구현\n",
    "def bfs(x, y):\n",
    "    # 큐(Queue) 구현을 위해 deque 라이브러리 사용\n",
    "    queue = deque()\n",
    "    queue.append((x, y))\n",
    "    # 큐가 빌 때까지 반복\n",
    "    while queue:\n",
    "        x, y = queue.popleft()\n",
    "        # 현재 위치에서 네 방향으로의 위치 확인\n",
    "        for i in range(4):\n",
    "            nx = x + dx[i]\n",
    "            ny = y + dx[i]\n",
    "            # 미로 찾기 공간을 벗어난 경우 무시\n",
    "            if nx < 0 or ny < 0 or nx >= n or ny >= m:\n",
    "                continue\n",
    "\n",
    "            # 벽인 경우 무시\n",
    "            if graph[nx][ny] == 0:\n",
    "                continue\n",
    "\n",
    "            # 해당 노드를 처음 방문하는 경우에만 최단 거리 기록\n",
    "            if graph[nx][ny] == 1:\n",
    "                graph[nx][ny] = graph[x][y] + 1\n",
    "                queue.append((nx, ny))\n",
    "            \n",
    "        # 가장 오른쪽 아래까지의 최단 거리 반환\n",
    "        return graph[n - 1][m - 1]\n",
    "\n",
    "    # BFS를 수행한 결과 출력\n",
    "    print(bfs(0, 0))"
   ]
  },
  {
   "cell_type": "code",
   "execution_count": 145,
   "metadata": {},
   "outputs": [],
   "source": [
    "maps = [[1, 0, 1, 1, 1], [1, 0, 1, 0, 1], [1, 0, 1, 1, 1], [1, 1, 1, 0, 1], [0, 0, 0, 0, 1]]"
   ]
  },
  {
   "cell_type": "code",
   "execution_count": 151,
   "metadata": {},
   "outputs": [
    {
     "name": "stdout",
     "output_type": "stream",
     "text": [
      "1 0\n",
      "deque([(1, 0)])\n",
      "0 0\n",
      "deque([(0, 0)])\n",
      "2 0\n",
      "deque([(0, 0), (2, 0)])\n",
      "3 0\n",
      "deque([(3, 0)])\n",
      "3 1\n",
      "deque([(3, 1)])\n",
      "3 2\n",
      "deque([(3, 2)])\n",
      "2 2\n",
      "deque([(2, 2)])\n",
      "1 2\n",
      "deque([(1, 2)])\n",
      "2 3\n",
      "deque([(1, 2), (2, 3)])\n",
      "0 2\n",
      "deque([(2, 3), (0, 2)])\n",
      "2 4\n",
      "deque([(0, 2), (2, 4)])\n",
      "0 3\n",
      "deque([(2, 4), (0, 3)])\n",
      "1 4\n",
      "deque([(0, 3), (1, 4)])\n",
      "3 4\n",
      "deque([(0, 3), (1, 4), (3, 4)])\n",
      "0 4\n",
      "deque([(1, 4), (3, 4), (0, 4)])\n",
      "4 4\n",
      "deque([(0, 4), (4, 4)])\n"
     ]
    },
    {
     "data": {
      "text/plain": [
       "11"
      ]
     },
     "execution_count": 151,
     "metadata": {},
     "output_type": "execute_result"
    }
   ],
   "source": [
    "maps = [[1, 0, 1, 1, 1], [1, 0, 1, 0, 1], [1, 0, 1, 1, 1], [1, 1, 1, 0, 1], [0, 0, 0, 0, 1]]\n",
    "from collections import deque\n",
    "def solution(maps):\n",
    "    n = len(maps)\n",
    "    m = len(maps[0])\n",
    "    \n",
    "\n",
    "    # BFS 소스코드 구현\n",
    "    def bfs(x, y):\n",
    "        # 이동할 네 방향 정의(상, 하, 좌, 우)\n",
    "        dx = [-1, 1, 0, 0]\n",
    "        dy = [0, 0, -1, 1]\n",
    "\n",
    "        # 큐(Queue) 구현을 위해 deque 라이브러리 사용\n",
    "        queue = deque()\n",
    "        queue.append((x, y))\n",
    "        # 큐가 빌 때까지 반복\n",
    "        while queue:\n",
    "            x, y = queue.popleft()\n",
    "            # 현재 위치에서 네 방향으로의 위치 확인\n",
    "            for i in range(4):\n",
    "                nx = x + dx[i]\n",
    "                ny = y + dy[i]\n",
    "                \n",
    "                # 미로 찾기 공간을 벗어난 경우 무시\n",
    "                if nx < 0 or ny < 0 or nx >= n or ny >= m:\n",
    "                    continue\n",
    "\n",
    "                # 벽인 경우 무시\n",
    "                if maps[nx][ny] == 0:\n",
    "                    continue\n",
    "\n",
    "                # 해당 노드를 처음 방문하는 경우에만 최단 거리 기록\n",
    "                if maps[nx][ny] == 1:\n",
    "                    maps[nx][ny] = maps[x][y] + 1\n",
    "                    queue.append((nx, ny))\n",
    "\n",
    "        # 가장 오른쪽 아래까지의 최단 거리 반환\n",
    "        return maps[n - 1][m - 1]\n",
    "\n",
    "    # BFS를 수행한 결과 출력\n",
    "    answer = bfs(0, 0)\n",
    "    if (answer == 1) & (n*m != 1):\n",
    "        return -1\n",
    "    return answer\n",
    "\n",
    "solution(maps)"
   ]
  },
  {
   "cell_type": "code",
   "execution_count": null,
   "metadata": {},
   "outputs": [],
   "source": []
  },
  {
   "cell_type": "code",
   "execution_count": null,
   "metadata": {},
   "outputs": [],
   "source": [
    "from collections import deque\n",
    "\n",
    "def solution(maps):\n",
    "\n",
    "    dx = [-1,0,1,0]\n",
    "    dy = [0,1,0,-1]\n",
    "\n",
    "    result = 0\n",
    "\n",
    "    n = len(maps)\n",
    "    m = len(maps[0])\n",
    "\n",
    "    ck = [[0]*m for _ in range(n)]\n",
    "    dis = [[0]*m for _ in range(n)]\n",
    "    queue = deque()\n",
    "\n",
    "    ck[0][0] = 1\n",
    "    dis[0][0] = 1\n",
    "    queue.append((0,0))\n",
    "\n",
    "    while queue:\n",
    "        now = queue.popleft()\n",
    "\n",
    "        for i in range(4):\n",
    "            x = now[0]+dx[i]\n",
    "            y = now[1]+dy[i]\n",
    "\n",
    "            if 0<=x<=n-1 and 0<=y<=m-1:\n",
    "                if ck[x][y] == 0 and maps[x][y] == 1:\n",
    "                    ck[x][y] = 1\n",
    "                    dis[x][y] = dis[now[0]][now[1]] + 1\n",
    "                    queue.append((x,y))\n",
    "\n",
    "    result = -1 if dis[n-1][m-1] == 0 else dis[n-1][m-1]\n",
    "\n",
    "    return result"
   ]
  },
  {
   "cell_type": "markdown",
   "metadata": {},
   "source": [
    "## 특정 거리의 도시 찾기"
   ]
  },
  {
   "cell_type": "code",
   "execution_count": 37,
   "metadata": {},
   "outputs": [
    {
     "name": "stdout",
     "output_type": "stream",
     "text": [
      "Writing 특정거리의도시찾기.py\n"
     ]
    }
   ],
   "source": [
    "%%writefile 특정거리의도시찾기.py\n",
    "from collections import deque\n",
    "\n",
    "# N, M을 공백으로 구분하여 입력받기\n",
    "n, m, k, x = map(int, input().split())\n",
    "graph = [[] for _ in range(n+1)]\n",
    "\n",
    "for i in range(m):\n",
    "    start, end = map(int, input().split())\n",
    "    graph[start].append(end)\n",
    "\n",
    "# 모든 도시에 대한 최단 거리 초기화\n",
    "distance = [-1] * (n+1)\n",
    "distance[x] = 0 # 출발 도시까지의 거리는 0으로 설정\n",
    "\n",
    "# 너비 우선 탐색(BFS) 수행\n",
    "q = deque([x])\n",
    "while q:\n",
    "    now = q.popleft()\n",
    "    # 현재 도시에서 이동 할 수 있는 모든 도시를 확인\n",
    "    for next_node in graph[now]:\n",
    "        # 아직 방문하지 않은 도시라면\n",
    "        if distance[next_node] == -1:\n",
    "            # 최단 거리 갱신\n",
    "            distance[next_node] = distance[now] + 1\n",
    "            q.append(next_node)\n",
    "\n",
    "# 최단 거리가 K인 모든 도시의 번호를 오름차순으로 출력\n",
    "check = False\n",
    "for i in range(1, n+1):\n",
    "    if distance[i] == k:\n",
    "        print(i)\n",
    "        check = True\n",
    "\n",
    "# 만약 최단 거리가 K인 도시가 없다면, -1 출력\n",
    "if check == False:\n",
    "    print(-1)"
   ]
  },
  {
   "cell_type": "markdown",
   "metadata": {},
   "source": [
    "## 연구소"
   ]
  },
  {
   "cell_type": "markdown",
   "metadata": {},
   "source": [
    "- 문제 이해하는 데도 상당히 오랜 시간이 걸림\n",
    "- 0 갯수를 최대화 할 수 있도록 1을 3개 세워야함\n",
    "- 2가 탐색 방식으로 확장해나가는 구조라 생각함\n",
    "\n",
    "<풀이과정>\n",
    "1. 일단 1을 3개 세우는 모든 경우의 수를 다 탐색해야한다\n",
    "2. 다음으로 2를 채우고 최솟값을 구한다.\n"
   ]
  },
  {
   "cell_type": "code",
   "execution_count": 9,
   "metadata": {},
   "outputs": [
    {
     "name": "stdout",
     "output_type": "stream",
     "text": [
      "Overwriting 연구소.py\n"
     ]
    }
   ],
   "source": [
    "%%writefile 연구소.py\n",
    "from collections import deque\n",
    "import copy\n",
    "import sys\n",
    "input = sys.stdin.readline\n",
    "\n",
    "def bfs():\n",
    "    queue = deque()\n",
    "    tmp_graph = copy.deepcopy(graph)\n",
    "    for i in range(n):\n",
    "        for j in range(m):\n",
    "            if tmp_graph[i][j] == 2:\n",
    "                queue.append((i, j))\n",
    "\n",
    "    while queue:\n",
    "        x, y = queue.popleft()\n",
    "\n",
    "        for i in range(4):\n",
    "            nx = x + dx[i]\n",
    "            ny = y + dy[i]\n",
    "\n",
    "            if nx < 0 or nx >= n or ny < 0 or ny >= m:\n",
    "                continue\n",
    "            if tmp_graph[nx][ny] == 0:\n",
    "                tmp_graph[nx][ny] = 2\n",
    "                queue.append((nx, ny))\n",
    "\n",
    "    global answer\n",
    "    cnt = 0\n",
    "\n",
    "    for i in range(n):\n",
    "        cnt += tmp_graph[i].count(0)\n",
    "\n",
    "    answer = max(answer, cnt)\n",
    "\n",
    "\n",
    "def makeWall(cnt):\n",
    "    if cnt == 3:\n",
    "        bfs()\n",
    "        return\n",
    "\n",
    "    for i in range(n):\n",
    "        for j in range(m):\n",
    "            if graph[i][j] == 0:\n",
    "                graph[i][j] = 1\n",
    "                makeWall(cnt+1)\n",
    "                graph[i][j] = 0\n",
    "\n",
    "n, m = map(int, input().split())\n",
    "graph = []\n",
    "dx = [0, 0, 1, -1]\n",
    "dy = [1, -1, 0, 0]\n",
    "\n",
    "for i in range(n):\n",
    "    graph.append(list(map(int, input().split())))\n",
    "\n",
    "answer = 0\n",
    "makeWall(0)\n",
    "print(answer)\n"
   ]
  },
  {
   "cell_type": "code",
   "execution_count": 10,
   "metadata": {},
   "outputs": [
    {
     "name": "stdout",
     "output_type": "stream",
     "text": [
      "Writing 연구소-1.py\n"
     ]
    }
   ],
   "source": [
    "%%writefile 연구소-1.py\n",
    "def count_clean():\n",
    "    \"\"\"\n",
    "    spread virus in given graph(after construct 3 walls)\n",
    "    return the number of clean area\n",
    "    \"\"\"\n",
    "    import copy\n",
    "    move = [(-1, 0), (0, 1), (1, 0), (0, -1)]\n",
    "    stack = copy.deepcopy(virus)\n",
    "    visited = set()\n",
    "    spread_num = 0\n",
    "    while stack:\n",
    "        vx, vy = stack.pop()\n",
    "        for dx, dy in move:\n",
    "            nx, ny = vx+dx, vy+dy\n",
    "            if 0<=nx<n and 0<=ny<m and graph[nx][ny] == 0 and (nx, ny) not in visited :\n",
    "                spread_num+=1\n",
    "                visited.add((nx, ny))\n",
    "                stack.append((nx, ny))\n",
    "    \n",
    "    return spread_num\n",
    "        \n",
    "\n",
    "def trial_one():\n",
    "    \"\"\"\n",
    "    2 좌표, 0 좌표 받기\n",
    "    1. 전체 0 좌표 중 3개 선택 (xC3)\n",
    "    2. xC3개의 경우의 수에 대해 바이러스 spread\n",
    "    3. 안전구역 넓이 최댓값 계속 업데이트\n",
    "    \"\"\"\n",
    "    from itertools import combinations\n",
    "\n",
    "    ans = len(empty) # 각 경우에서 가장 적게 퍼진 개수 count\n",
    "    for (x1, y1), (x2, y2), (x3, y3) in combinations(empty, 3):\n",
    "        graph[x1][y1], graph[x2][y2], graph[x3][y3] = 1, 1, 1\n",
    "        spread_num = count_clean()\n",
    "        if ans > spread_num: \n",
    "            ans = spread_num\n",
    "            # print(f\"({x1},{y1}),({x2},{y2}),({x3},{y3}) => {spread_num}\")\n",
    "        graph[x1][y1], graph[x2][y2], graph[x3][y3] = 0, 0, 0\n",
    "\n",
    "    return len(empty)-3-ans\n",
    "\n",
    "n, m = map(int, input().split())\n",
    "graph, virus, empty = [], [], []\n",
    "for i in range(n):\n",
    "    graph.append(list(map(int, input().split())))\n",
    "    for j in range(m):\n",
    "        if graph[i][j] == 2: virus.append([i, j])\n",
    "        elif graph[i][j] == 0: empty.append([i, j])\n",
    "\n",
    "# print(f\"input - virus={virus}, empty 개수={len(empty)}\")\n",
    "\n",
    "ans = trial_one()\n",
    "print(ans)"
   ]
  },
  {
   "cell_type": "code",
   "execution_count": 11,
   "metadata": {},
   "outputs": [
    {
     "name": "stdout",
     "output_type": "stream",
     "text": [
      "Writing 연구소-2.py\n"
     ]
    }
   ],
   "source": [
    "%%writefile 연구소-2.py\n",
    "from collections import deque\n",
    "\n",
    "def bfs(tlst):\n",
    "    for i, j in tlst:\n",
    "        arr[i][j] = 1\n",
    "\n",
    "    visited = [[0 for _ in range(m)] for _ in range(n)]\n",
    "    queue = deque()\n",
    "    cnt = num - 3\n",
    "    for vi, vj in virus:\n",
    "        queue.append((vi, vj))\n",
    "        visited[vi][vj] = 1\n",
    "\n",
    "    while queue:\n",
    "        si, sj = queue.popleft()\n",
    "\n",
    "        for di, dj in ((-1, 0), (1, 0), (0, -1), (0, 1)):\n",
    "            ni, nj = si + di, sj + dj\n",
    "            if 0 <= ni < n and 0 <= nj < m and visited[ni][nj] == 0 and arr[ni][nj] == 0:\n",
    "                queue.append((ni, nj))\n",
    "                visited[ni][nj] = 1\n",
    "                cnt -= 1\n",
    "\n",
    "    for i, j in tlst:\n",
    "        arr[i][j] = 0\n",
    "\n",
    "    return cnt\n",
    "\n",
    "\n",
    "n, m = map(int, input().split())\n",
    "arr = [list(map(int, input().split())) for _ in range(n)]\n",
    "\n",
    "lst = []\n",
    "virus = []\n",
    "\n",
    "for i in range(n):\n",
    "    for j in range(m):\n",
    "        if arr[i][j] == 0:\n",
    "            lst.append((i, j))\n",
    "        elif arr[i][j] == 2:\n",
    "            virus.append((i, j))\n",
    "num = len(lst)\n",
    "max_ = 0\n",
    "for i in range(num - 2):\n",
    "    for j in range(i+1, num-1):\n",
    "        for k in range(j+1, num):\n",
    "            tlst = [lst[i], lst[j], lst[k]]\n",
    "            max_ = max(max_, bfs(tlst))\n",
    "print(max_)"
   ]
  },
  {
   "cell_type": "markdown",
   "metadata": {},
   "source": [
    "# 알파벳"
   ]
  },
  {
   "cell_type": "code",
   "execution_count": 14,
   "metadata": {},
   "outputs": [],
   "source": [
    "r, c = map(int, input().split())\n",
    "arr = [input() for _ in range(r)]"
   ]
  },
  {
   "cell_type": "code",
   "execution_count": 15,
   "metadata": {},
   "outputs": [
    {
     "data": {
      "text/plain": [
       "['CAAB', 'ADCB']"
      ]
     },
     "execution_count": 15,
     "metadata": {},
     "output_type": "execute_result"
    }
   ],
   "source": [
    "arr"
   ]
  },
  {
   "cell_type": "code",
   "execution_count": 17,
   "metadata": {},
   "outputs": [],
   "source": [
    "queue = deque()\n",
    "alpha = []"
   ]
  },
  {
   "cell_type": "code",
   "execution_count": 29,
   "metadata": {},
   "outputs": [],
   "source": [
    "i, j = 0, 0\n",
    "queue.append((i, j, arr[i][j]))"
   ]
  },
  {
   "cell_type": "code",
   "execution_count": 19,
   "metadata": {},
   "outputs": [
    {
     "data": {
      "text/plain": [
       "deque([(0, 1, 'A')])"
      ]
     },
     "execution_count": 19,
     "metadata": {},
     "output_type": "execute_result"
    }
   ],
   "source": [
    "queue"
   ]
  },
  {
   "cell_type": "code",
   "execution_count": 20,
   "metadata": {},
   "outputs": [
    {
     "data": {
      "text/plain": [
       "(0, 1, 'A')"
      ]
     },
     "execution_count": 20,
     "metadata": {},
     "output_type": "execute_result"
    }
   ],
   "source": [
    "queue.popleft()"
   ]
  },
  {
   "cell_type": "code",
   "execution_count": 33,
   "metadata": {},
   "outputs": [
    {
     "data": {
      "text/plain": [
       "3"
      ]
     },
     "execution_count": 33,
     "metadata": {},
     "output_type": "execute_result"
    }
   ],
   "source": [
    "queue = deque()\n",
    "alpha = []\n",
    "\n",
    "i, j, cnt = 0, 0, 1\n",
    "queue.append((i, j, arr[i][j]))\n",
    "\n",
    "while queue:\n",
    "    si, sj, a = queue.popleft()\n",
    "    alpha.append(a)\n",
    "\n",
    "    for di, dj in ((-1, 0), (1, 0), (0, -1), (0, 1)):\n",
    "        ni, nj = si + di, sj + dj\n",
    "        \n",
    "        if (0 <= ni < r) and (0 <= nj < c) and (arr[ni][nj] not in alpha):\n",
    "            queue.append((ni, nj, arr[ni][nj]))\n",
    "            alpha.append(arr[ni][nj])\n",
    "            cnt += 1\n",
    "\n",
    "cnt\n"
   ]
  },
  {
   "cell_type": "code",
   "execution_count": 52,
   "metadata": {},
   "outputs": [
    {
     "name": "stdout",
     "output_type": "stream",
     "text": [
      "4\n"
     ]
    }
   ],
   "source": [
    "# %%writefile 알파벳.py\n",
    "from collections import deque\n",
    "\n",
    "def bfs():\n",
    "    queue = deque()\n",
    "    alpha = set()\n",
    "\n",
    "    i, j = 0, 0\n",
    "    queue.append((i, j, arr[i][j]))\n",
    "\n",
    "    while queue:\n",
    "        si, sj, a = queue.popleft()\n",
    "        alpha.add(a)\n",
    "\n",
    "        for di, dj in ((-1, 0), (1, 0), (0, -1), (0, 1)):\n",
    "            ni, nj = si + di, sj + dj\n",
    "            \n",
    "            if (0 <= ni < r) and (0 <= nj < c) and (arr[ni][nj] not in alpha):\n",
    "                queue.append((ni, nj, arr[ni][nj]))\n",
    "                alpha.add(arr[ni][nj])\n",
    "\n",
    "    return len(alpha)\n",
    "\n",
    "r, c = map(int, input().split())\n",
    "arr = [input() for _ in range(r)]\n",
    "r = bfs()\n",
    "print(r)"
   ]
  },
  {
   "cell_type": "code",
   "execution_count": 53,
   "metadata": {},
   "outputs": [
    {
     "data": {
      "text/plain": [
       "['IEFCJ', 'FHFKC', 'FFALF', 'HFGCF', 'HMCHH']"
      ]
     },
     "execution_count": 53,
     "metadata": {},
     "output_type": "execute_result"
    }
   ],
   "source": [
    "arr"
   ]
  },
  {
   "cell_type": "code",
   "execution_count": 54,
   "metadata": {},
   "outputs": [],
   "source": [
    "queue = deque()\n",
    "alpha = set()\n",
    "\n",
    "queue.append((0,0, arr[0][0]))"
   ]
  },
  {
   "cell_type": "code",
   "execution_count": 78,
   "metadata": {},
   "outputs": [
    {
     "data": {
      "text/plain": [
       "deque([])"
      ]
     },
     "execution_count": 78,
     "metadata": {},
     "output_type": "execute_result"
    }
   ],
   "source": [
    "queue"
   ]
  },
  {
   "cell_type": "code",
   "execution_count": 88,
   "metadata": {},
   "outputs": [],
   "source": [
    "queue = deque()\n",
    "alpha = set()\n",
    "\n",
    "queue.append((0,0, arr[0][0]))"
   ]
  },
  {
   "cell_type": "code",
   "execution_count": 103,
   "metadata": {},
   "outputs": [],
   "source": [
    "# 틀린코드 (아이디어 정리)\n",
    "queue = deque()\n",
    "alpha = set()\n",
    "\n",
    "queue.append((0,0, arr[0][0]))\n",
    "\n",
    "while queue:\n",
    "    si, sj, a = queue.popleft()\n",
    "    alpha.add(a)\n",
    "\n",
    "    for di, dj in ((-1, 0), (1, 0), (0, -1), (0, 1)):\n",
    "        ni, nj = si + di, sj + dj\n",
    "        \n",
    "        if (0 <= ni < r) and (0 <= nj < c) and (arr[ni][nj] not in alpha):\n",
    "            queue.append((ni, nj, arr[ni][nj]))\n",
    "            alpha.add(arr[ni][nj])\n",
    "\n"
   ]
  },
  {
   "cell_type": "code",
   "execution_count": 101,
   "metadata": {},
   "outputs": [
    {
     "data": {
      "text/plain": [
       "{'E', 'F', 'H', 'I'}"
      ]
     },
     "execution_count": 101,
     "metadata": {},
     "output_type": "execute_result"
    }
   ],
   "source": [
    "alpha"
   ]
  },
  {
   "cell_type": "code",
   "execution_count": 118,
   "metadata": {},
   "outputs": [
    {
     "name": "stdout",
     "output_type": "stream",
     "text": [
      "Writing 알파벳-1.py\n"
     ]
    }
   ],
   "source": [
    "%%writefile 알파벳-1.py\n",
    "import sys\n",
    "\n",
    "R, C = map(int, sys.stdin.readline().split())\n",
    "board = [list(sys.stdin.readline().strip()) for _ in range(R)]\n",
    "dx = [-1, 0, 1, 0]\n",
    "dy = [0, -1, 0, 1]\n",
    "answer = 1\n",
    "def BFS(x, y):\n",
    "    global answer\n",
    "    q = set([(x, y, board[x][y])])\n",
    "    while q:\n",
    "        x, y, ans = q.pop()\n",
    "        for i in range(4):\n",
    "            nx = x + dx[i]\n",
    "            ny = y + dy[i]\n",
    "            if ((0 <= nx < R) and (0 <= ny < C)) and (board[nx][ny] not in ans):\n",
    "                q.add((nx,ny,ans + board[nx][ny]))\n",
    "                answer = max(answer, len(ans)+1)\n",
    "\n",
    "BFS(0, 0)\n",
    "print(answer)"
   ]
  },
  {
   "cell_type": "markdown",
   "metadata": {},
   "source": [
    "## 타겟 넘버"
   ]
  },
  {
   "cell_type": "code",
   "execution_count": 119,
   "metadata": {},
   "outputs": [],
   "source": [
    "numbers = [1, 1, 2]"
   ]
  },
  {
   "cell_type": "code",
   "execution_count": 130,
   "metadata": {},
   "outputs": [
    {
     "name": "stdout",
     "output_type": "stream",
     "text": [
      "000\n",
      "001\n",
      "010\n",
      "011\n",
      "100\n",
      "101\n",
      "110\n",
      "111\n"
     ]
    }
   ],
   "source": [
    "def solution(numbers, target):\n",
    "\n",
    "    answer = 0    \n",
    "    l = len(numbers)\n",
    "\n",
    "    for n in range(2**l):\n",
    "        k = format(n, 'b')\n",
    "        c = str(k).zfill(l)\n",
    "        r = 0\n",
    "        for i, num in enumerate(numbers):\n",
    "            r += (-1)**(int(c[i])) * num\n",
    "\n",
    "        if r == target:\n",
    "            answer += 1\n",
    "    \n",
    "    return answer"
   ]
  },
  {
   "cell_type": "code",
   "execution_count": 128,
   "metadata": {},
   "outputs": [
    {
     "data": {
      "text/plain": [
       "1"
      ]
     },
     "execution_count": 128,
     "metadata": {},
     "output_type": "execute_result"
    }
   ],
   "source": [
    "def solution(numbers, target):\n",
    "    if not numbers and target == 0 :\n",
    "        return 1\n",
    "    elif not numbers:\n",
    "        return 0\n",
    "    else:\n",
    "        return solution(numbers[1:], target-numbers[0]) + solution(numbers[1:], target+numbers[0])\n"
   ]
  },
  {
   "cell_type": "code",
   "execution_count": 129,
   "metadata": {},
   "outputs": [
    {
     "data": {
      "text/plain": [
       "-1"
      ]
     },
     "execution_count": 129,
     "metadata": {},
     "output_type": "execute_result"
    }
   ],
   "source": [
    "from itertools import product\n",
    "def solution(numbers, target):\n",
    "    l = [(x, -x) for x in numbers]\n",
    "    s = list(map(sum, product(*l)))\n",
    "    return s.count(target)\n"
   ]
  },
  {
   "cell_type": "code",
   "execution_count": null,
   "metadata": {},
   "outputs": [],
   "source": [
    "def solution(numbers, target):\n",
    "    global answer\n",
    "    answer = 0\n",
    "    def dfs(i,total):\n",
    "        global answer\n",
    "        if (i==len(numbers)):\n",
    "            if total==target:\n",
    "                answer+=1\n",
    "            return\n",
    "        dfs(i+1,total+numbers[i])    \n",
    "        dfs(i+1,total-numbers[i])\n",
    "        return\n",
    "    dfs(0,0)\n",
    "    return answer"
   ]
  }
 ],
 "metadata": {
  "kernelspec": {
   "display_name": "tab",
   "language": "python",
   "name": "python3"
  },
  "language_info": {
   "codemirror_mode": {
    "name": "ipython",
    "version": 3
   },
   "file_extension": ".py",
   "mimetype": "text/x-python",
   "name": "python",
   "nbconvert_exporter": "python",
   "pygments_lexer": "ipython3",
   "version": "3.8.16"
  }
 },
 "nbformat": 4,
 "nbformat_minor": 2
}
