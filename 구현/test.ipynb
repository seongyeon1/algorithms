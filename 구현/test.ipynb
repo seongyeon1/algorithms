{
 "cells": [
  {
   "cell_type": "code",
   "execution_count": 2,
   "metadata": {},
   "outputs": [],
   "source": [
    "h = 'K1KA5CB7'"
   ]
  },
  {
   "cell_type": "code",
   "execution_count": 27,
   "metadata": {},
   "outputs": [],
   "source": [
    "n = list(map(str, input()))\n",
    "n.sort()"
   ]
  },
  {
   "cell_type": "code",
   "execution_count": 29,
   "metadata": {},
   "outputs": [],
   "source": [
    "n = list(map(str, input()))\n",
    "n.sort()\n",
    "\n",
    "i = 0\n",
    "sum = 0\n",
    "\n",
    "while True:\n",
    "    if n[i].isdigit() == True:\n",
    "        sum += int(n[i])\n",
    "        i += 1\n",
    "    else:\n",
    "        break\n",
    "\n",
    "result = ''.join(n[i:])\n",
    "if i != 0:\n",
    "    result = result + str(sum)\n"
   ]
  },
  {
   "cell_type": "code",
   "execution_count": 30,
   "metadata": {},
   "outputs": [
    {
     "data": {
      "text/plain": [
       "['1',\n",
       " '2',\n",
       " '4',\n",
       " '4',\n",
       " '9',\n",
       " 'D',\n",
       " 'D',\n",
       " 'D',\n",
       " 'I',\n",
       " 'J',\n",
       " 'J',\n",
       " 'J',\n",
       " 'K',\n",
       " 'L',\n",
       " 'L',\n",
       " 'S',\n",
       " 'S']"
      ]
     },
     "execution_count": 30,
     "metadata": {},
     "output_type": "execute_result"
    }
   ],
   "source": [
    "n"
   ]
  },
  {
   "cell_type": "code",
   "execution_count": 31,
   "metadata": {},
   "outputs": [
    {
     "data": {
      "text/plain": [
       "'DDDIJJJKLLSS20'"
      ]
     },
     "execution_count": 31,
     "metadata": {},
     "output_type": "execute_result"
    }
   ],
   "source": [
    "result"
   ]
  },
  {
   "cell_type": "markdown",
   "metadata": {},
   "source": [
    "## 문자열 압축"
   ]
  },
  {
   "cell_type": "code",
   "execution_count": null,
   "metadata": {},
   "outputs": [],
   "source": [
    "def solution(s):\n",
    "    answer = len(s)\n",
    "    \n",
    "    # 반복 (나누는 단위 : length)\n",
    "    for length in range(1, len(s//2) + 1):\n",
    "        # 같은 거 찾기\n",
    "        slice_list = [s[i:i+length] for i in range(0, len(s), length)]\n",
    "        # slice_list = [''.join(x) for x in zip(*[list(seq[z::length]) for z in range(length)])]\n",
    "        # slice_list = map(''.join, zip(*[iter(s)]*length))\n",
    "        \n",
    "        \n",
    "        \n",
    "    return answer"
   ]
  },
  {
   "cell_type": "code",
   "execution_count": 32,
   "metadata": {},
   "outputs": [],
   "source": [
    "s = \"aabbaccc\""
   ]
  },
  {
   "cell_type": "code",
   "execution_count": 34,
   "metadata": {},
   "outputs": [],
   "source": [
    "answer = len(s)\n",
    "\n",
    "# 반복 (나누는 단위 : length)\n",
    "for length in range(1, len(s)//2 + 1):\n",
    "    # 같은 거 찾기\n",
    "    slice_list = [s[i:i+length] for i in range(0, len(s), length)]\n",
    "    # slice_list = [''.join(x) for x in zip(*[list(seq[z::length]) for z in range(length)])]\n",
    "    # slice_list = map(''.join, zip(*[iter(s)]*length))"
   ]
  },
  {
   "cell_type": "code",
   "execution_count": 38,
   "metadata": {},
   "outputs": [],
   "source": [
    "from collections import Counter"
   ]
  },
  {
   "cell_type": "code",
   "execution_count": 41,
   "metadata": {},
   "outputs": [],
   "source": [
    "d = Counter(slice_list)"
   ]
  },
  {
   "cell_type": "code",
   "execution_count": 53,
   "metadata": {},
   "outputs": [
    {
     "name": "stdout",
     "output_type": "stream",
     "text": [
      "aabb 1\n",
      "accc 1\n"
     ]
    }
   ],
   "source": [
    "for v in d:\n",
    "    print(v, d[v])"
   ]
  },
  {
   "cell_type": "code",
   "execution_count": 57,
   "metadata": {},
   "outputs": [],
   "source": [
    "tmp = 0\n",
    "for v in d:\n",
    "    tmp += len(v)\n",
    "    if d[v] != 1:\n",
    "        tmp += len(d[v])"
   ]
  },
  {
   "cell_type": "code",
   "execution_count": 58,
   "metadata": {},
   "outputs": [
    {
     "data": {
      "text/plain": [
       "8"
      ]
     },
     "execution_count": 58,
     "metadata": {},
     "output_type": "execute_result"
    }
   ],
   "source": [
    "tmp"
   ]
  },
  {
   "cell_type": "code",
   "execution_count": null,
   "metadata": {},
   "outputs": [],
   "source": [
    "answer = len(s)\n",
    "\n",
    "# 반복 (나누는 단위 : length)\n",
    "for length in range(1, len(s)//2 + 1):\n",
    "    # 같은 거 찾기\n",
    "    slice_list = [s[i:i+length] for i in range(0, len(s), length)]\n",
    "    # slice_list = [''.join(x) for x in zip(*[list(seq[z::length]) for z in range(length)])]\n",
    "    # slice_list = map(''.join, zip(*[iter(s)]*length))\n",
    "\n",
    "    d = Counter(slice_list)\n",
    "    tmp = 0\n",
    "    for v in d:\n",
    "        tmp += len(v)\n",
    "        if d[v] != 1:\n",
    "            tmp += len(d[v])\n"
   ]
  },
  {
   "cell_type": "code",
   "execution_count": 99,
   "metadata": {},
   "outputs": [],
   "source": [
    "from collections import Counter\n",
    "\n",
    "def solution(s):\n",
    "\n",
    "    result = len(s)\n",
    "    \n",
    "    # 반복 (나누는 단위 : length)\n",
    "    for length in range(1, len(s)//2 + 1):\n",
    "        # 같은 거 찾기\n",
    "        answer = len(s)\n",
    "        tmp = s[0:length]\n",
    "        for i in range(0+length, len(s), length):\n",
    "            cnt = 1\n",
    "            now = s[i:i+length]\n",
    "            if now  == tmp:\n",
    "                answer -= len(now)\n",
    "                cnt += 1\n",
    "            else:\n",
    "                if cnt > 1:\n",
    "                    answer += len(str(cnt))\n",
    "                tmp = now\n",
    "\n",
    "        if answer < result:\n",
    "            result = answer\n",
    "    return result\n",
    "\n",
    "    "
   ]
  },
  {
   "cell_type": "code",
   "execution_count": 100,
   "metadata": {},
   "outputs": [
    {
     "data": {
      "text/plain": [
       "4"
      ]
     },
     "execution_count": 100,
     "metadata": {},
     "output_type": "execute_result"
    }
   ],
   "source": [
    "solution(s)"
   ]
  },
  {
   "cell_type": "code",
   "execution_count": 101,
   "metadata": {},
   "outputs": [],
   "source": [
    "s = \"aabbaccc\""
   ]
  },
  {
   "cell_type": "code",
   "execution_count": 104,
   "metadata": {},
   "outputs": [],
   "source": [
    "result = len(s)"
   ]
  },
  {
   "cell_type": "code",
   "execution_count": 105,
   "metadata": {},
   "outputs": [],
   "source": [
    "length = 3"
   ]
  },
  {
   "cell_type": "code",
   "execution_count": 106,
   "metadata": {},
   "outputs": [],
   "source": [
    "answer = len(s)\n",
    "tmp = s[0:length]"
   ]
  },
  {
   "cell_type": "code",
   "execution_count": 107,
   "metadata": {},
   "outputs": [
    {
     "data": {
      "text/plain": [
       "'aab'"
      ]
     },
     "execution_count": 107,
     "metadata": {},
     "output_type": "execute_result"
    }
   ],
   "source": [
    "tmp"
   ]
  },
  {
   "cell_type": "code",
   "execution_count": 112,
   "metadata": {},
   "outputs": [],
   "source": [
    "s = \"ababcdcdababcdcd\""
   ]
  },
  {
   "cell_type": "code",
   "execution_count": 114,
   "metadata": {},
   "outputs": [
    {
     "name": "stdout",
     "output_type": "stream",
     "text": [
      "bcd\n",
      "cda\n",
      "bab\n",
      "cdc\n",
      "d\n"
     ]
    }
   ],
   "source": [
    "from collections import Counter\n",
    "\n",
    "def solution(s):\n",
    "    result = len(s)\n",
    "    # 반복 (나누는 단위 : length)\n",
    "    for length in range(1, len(s)//2 + 1):\n",
    "        # 같은 거 찾기\n",
    "        answer = len(s)\n",
    "        tmp = s[0:length]\n",
    "        cnt = 1\n",
    "        for i in range(0+length, len(s), length):\n",
    "            now = s[i:i+length]\n",
    "            if now == tmp:\n",
    "                answer -= len(now)\n",
    "                cnt += 1\n",
    "            else:\n",
    "                if cnt > 1:\n",
    "                    answer += len(str(cnt))\n",
    "                tmp = now\n",
    "                cnt = 1\n",
    "        if cnt > 1:\n",
    "            answer += len(str(cnt))\n",
    "\n",
    "        if answer < result:\n",
    "            result = answer\n",
    "    return result\n",
    "\n",
    "    "
   ]
  },
  {
   "cell_type": "code",
   "execution_count": null,
   "metadata": {},
   "outputs": [],
   "source": [
    "def compress(text, tok_len):\n",
    "    words = [text[i:i+tok_len] for i in range(0, len(text), tok_len)]\n",
    "    res = []\n",
    "    cur_word = words[0]\n",
    "    cur_cnt = 1\n",
    "    for a, b in zip(words, words[1:] + ['']):\n",
    "        if a == b:\n",
    "            cur_cnt += 1\n",
    "        else:\n",
    "            res.append([cur_word, cur_cnt])\n",
    "            cur_word = b\n",
    "            cur_cnt = 1\n",
    "    return sum(len(word) + (len(str(cnt)) if cnt > 1 else 0) for word, cnt in res)\n",
    "\n",
    "def solution(text):\n",
    "    return min(compress(text, tok_len) for tok_len in list(range(1, int(len(text)/2) + 1)) + [len(text)])\n"
   ]
  },
  {
   "cell_type": "code",
   "execution_count": null,
   "metadata": {},
   "outputs": [],
   "source": [
    "\n",
    "    \n",
    "# 반복 (나누는 단위 : length)\n",
    "for length in range(1, len(s)//2 + 1):\n",
    "    # 같은 거 찾기\n",
    "    answer = len(s)\n",
    "    tmp = s[0:length]\n",
    "    for i in range(0+length, len(s), length):\n",
    "        cnt = 1\n",
    "        now = s[i:i+length]\n",
    "        if now  == tmp:\n",
    "            answer -= len(now)\n",
    "            cnt += 1\n",
    "        else:\n",
    "            if cnt > 1:\n",
    "                answer += len(str(cnt))\n",
    "            tmp = now\n",
    "\n",
    "    if answer < result:\n",
    "        result = answer"
   ]
  },
  {
   "cell_type": "code",
   "execution_count": 102,
   "metadata": {},
   "outputs": [],
   "source": [
    "length = 1"
   ]
  },
  {
   "cell_type": "code",
   "execution_count": 103,
   "metadata": {},
   "outputs": [],
   "source": [
    "slice_list = [s[i:i+length] for i in range(0, len(s), length)]\n"
   ]
  },
  {
   "cell_type": "code",
   "execution_count": 88,
   "metadata": {},
   "outputs": [
    {
     "data": {
      "text/plain": [
       "['a', 'a', 'b', 'b', 'a', 'c', 'c', 'c']"
      ]
     },
     "execution_count": 88,
     "metadata": {},
     "output_type": "execute_result"
    }
   ],
   "source": [
    "slice_list"
   ]
  },
  {
   "cell_type": "markdown",
   "metadata": {},
   "source": [
    "## 자물쇠와 열쇠"
   ]
  },
  {
   "cell_type": "code",
   "execution_count": 115,
   "metadata": {},
   "outputs": [],
   "source": [
    "## 90도씩 돌기\n",
    "[[0, 0, 0]       [[0, 1, 0]\n",
    "[1, 0, 0] ->      [1, 0, 0]\n",
    "[0, 1, 1]]       [1, 0, 0]]"
   ]
  },
  {
   "cell_type": "code",
   "execution_count": 116,
   "metadata": {},
   "outputs": [],
   "source": [
    "# 3 * 3\n",
    "\n",
    "x = [[0, 0, 0],\n",
    " [1, 0, 0],\n",
    " [0, 1, 1]] "
   ]
  },
  {
   "cell_type": "code",
   "execution_count": 125,
   "metadata": {},
   "outputs": [
    {
     "data": {
      "text/plain": [
       "[1, 0, 0]"
      ]
     },
     "execution_count": 125,
     "metadata": {},
     "output_type": "execute_result"
    }
   ],
   "source": [
    "x[:][1]"
   ]
  },
  {
   "cell_type": "code",
   "execution_count": 131,
   "metadata": {},
   "outputs": [
    {
     "data": {
      "text/plain": [
       "[[0, 1, 0], [1, 0, 0], [1, 0, 0]]"
      ]
     },
     "execution_count": 131,
     "metadata": {},
     "output_type": "execute_result"
    }
   ],
   "source": [
    "new = []\n",
    "for i in range(len(x)):\n",
    "    tmp = []\n",
    "    for j in reversed(range(len(x))):\n",
    "        tmp.append(x[j][i])\n",
    "    new.append(tmp)\n",
    "new"
   ]
  },
  {
   "cell_type": "code",
   "execution_count": 126,
   "metadata": {},
   "outputs": [],
   "source": [
    "# 행렬 이용한 회전이동"
   ]
  },
  {
   "cell_type": "code",
   "execution_count": null,
   "metadata": {},
   "outputs": [],
   "source": [
    "def rotate_90(m):\n",
    "    N = len(m)\n",
    "    ret = [[0] * N for _ in range(N)]\n",
    "    for r in range(N):\n",
    "        for c in range(N):\n",
    "            ret[c][N-1-r] = m[r][c]\n",
    "    return ret"
   ]
  },
  {
   "cell_type": "code",
   "execution_count": 132,
   "metadata": {},
   "outputs": [],
   "source": [
    "# 2차원 리스트 90도 회전\n",
    "def rotate_a_matrix_by_90_degree(a):\n",
    "    n = len(a)\n",
    "    m = len(a[0])\n",
    "    result = [[0] * n for _ in range(m)]\n",
    "    for i in range(n):\n",
    "        for j in range(m):\n",
    "            result[j][n-i-1] = a[i][j]\n",
    "    return result\n",
    "    \n",
    "\n",
    "# 자물쇠의 중간 부분이 모두 1인지 확인\n",
    "def check(new_lock):\n",
    "    lock_length = len(new_lock) // 3\n",
    "    for i in range(lock_length, lock_length * 2):\n",
    "        for j in range(lock_length, lock_length * 2):\n",
    "            if new_lock[i][j] != 1:\n",
    "                return False\n",
    "    return True\n",
    "\n",
    "def solution(key, lock):\n",
    "    n = len(lock)\n",
    "    m = len(key)\n",
    "    # 자물쇠의 크기를 기존의 3배로 변환\n",
    "    new_lock = [[0] * (n * 3) for _ in range(n * 3)]\n",
    "    # 새로운 자물쇠의 중앙 부분에 기존의 자물쇠 넣기\n",
    "    for i in range(n):\n",
    "        for j in range(n):\n",
    "            new_lock[i + n][j + n] += key[i][j]\n",
    "\n",
    "    # 4가지 방향에 대해서 확인\n",
    "    for rotation in range(4):\n",
    "        key = rotate_a_matrix_by_90_degree(key)\n",
    "        for x in range(n * 2):\n",
    "            for y in range(n * 2):\n",
    "                # 자물쇠에 열쇠를 끼워 넣기\n",
    "                for i in range(m):\n",
    "                    for j in range(m):\n",
    "                        new_lock[x + i][y + j] += key[i][j]\n",
    "                # 새로운 자물쇠에 열쇠가 정확히 들어맞는지 검사\n",
    "                if check(new_lock) == True:\n",
    "                    return True\n",
    "                # 자물쇠에서 열쇠를 다시 빼기\n",
    "                for i in range(m):\n",
    "                    for j in range(m):\n",
    "                        new_lock[x + i][y + j] -= key[i][j]\n",
    "    return False"
   ]
  },
  {
   "cell_type": "code",
   "execution_count": 133,
   "metadata": {},
   "outputs": [
    {
     "data": {
      "text/plain": [
       "False"
      ]
     },
     "execution_count": 133,
     "metadata": {},
     "output_type": "execute_result"
    }
   ],
   "source": [
    "key, lock = \t[[0, 0, 0], [1, 0, 0], [0, 1, 1]], [[1, 1, 1], [1, 1, 0], [1, 0, 1]]\n",
    "solution(key, lock)"
   ]
  },
  {
   "cell_type": "code",
   "execution_count": 134,
   "metadata": {},
   "outputs": [
    {
     "data": {
      "text/plain": [
       "[[0, 1, 0], [1, 0, 0], [1, 0, 0]]"
      ]
     },
     "execution_count": 134,
     "metadata": {},
     "output_type": "execute_result"
    }
   ],
   "source": [
    "rotate_a_matrix_by_90_degree(key)"
   ]
  },
  {
   "cell_type": "code",
   "execution_count": 135,
   "metadata": {},
   "outputs": [],
   "source": [
    "import copy\n",
    "def solution(key, lock):\n",
    "    answer = False\n",
    "    M = len(key)\n",
    "    N = len(lock)\n",
    "    keys = []\n",
    "    locks = []\n",
    "\n",
    "    for i in range(M):\n",
    "        for j in range(M):\n",
    "            if key[i][j] == 1: keys.append([i, j])\n",
    "    keys_len = len(keys)\n",
    "\n",
    "    for i in range(N):\n",
    "        for j in range(N):\n",
    "            if lock[i][j] == 0: \n",
    "                locks.append([i+M-1, j+M-1])\n",
    "\n",
    "    def rotate_90(keys):\n",
    "        key_90 = []\n",
    "        for k in keys:\n",
    "            key_90.append([k[1], M-k[0]-1])\n",
    "        return key_90\n",
    "\n",
    "    def rotate_180(keys):\n",
    "        key_180 = []\n",
    "        for k in keys:\n",
    "            key_180.append([M-k[0]-1, M-k[1]-1])\n",
    "        return key_180\n",
    "\n",
    "    def rotate_270(keys):\n",
    "        key_270 = []\n",
    "        for k in keys:\n",
    "            key_270.append([M-k[1]-1, k[0]])\n",
    "        return key_270\n",
    "\n",
    "    def check_key(moved_key):\n",
    "        if len(moved_key) < len(locks): return False # 애초에 홈을 전부 채우지 못 한다면 False\n",
    "        checking = 0\n",
    "        for k in moved_key:\n",
    "            if k in locks: checking += 1\n",
    "            elif ((M-1) <= k[0] <= (N+M-2)) and ((M-1) <= k[1] <= (N+M-2)): return False\n",
    "        if checking == len(locks): return True\n",
    "        return False\n",
    "\n",
    "    def move_key(rotated_keys):\n",
    "        for i in range(N+M-1):\n",
    "            moved_key = copy.deepcopy(rotated_keys)\n",
    "            for k in range(keys_len):\n",
    "                moved_key[k][0] = rotated_keys[k][0] + i\n",
    "            for j in range(N+M-1):\n",
    "                for k in range(keys_len):\n",
    "                    moved_key[k][1] = rotated_keys[k][1] + j\n",
    "                if check_key(moved_key): return True\n",
    "        return False\n",
    "\n",
    "    if move_key(keys): return True\n",
    "\n",
    "    key_90 = rotate_90(keys)\n",
    "    if move_key(key_90): return True\n",
    "\n",
    "    key_180 = rotate_180(keys)\n",
    "    if move_key(key_180): return True\n",
    "\n",
    "    key_270 = rotate_270(keys)\n",
    "    if move_key(key_270): return True\n",
    "\n",
    "    return answer"
   ]
  },
  {
   "cell_type": "code",
   "execution_count": 136,
   "metadata": {},
   "outputs": [
    {
     "data": {
      "text/plain": [
       "True"
      ]
     },
     "execution_count": 136,
     "metadata": {},
     "output_type": "execute_result"
    }
   ],
   "source": [
    "solution(key, lock)"
   ]
  },
  {
   "cell_type": "markdown",
   "metadata": {},
   "source": [
    "# 뱀"
   ]
  },
  {
   "cell_type": "code",
   "execution_count": null,
   "metadata": {},
   "outputs": [],
   "source": [
    "from collections import deque\n",
    "\n",
    "# 보드의 크기 입력받기\n",
    "n = int(input())\n",
    "\n",
    "# 뱀이 이동할 보드 만들기\n",
    "board = [([0] * n) for _ in range(n)]\n",
    "\n",
    "# 사과의 위치 입력받기\n",
    "apple = []\n",
    "k = int(input())\n",
    "\n",
    "for _ in range(k):\n",
    "    input_row, input_col = map(int, input().split())\n",
    "    # 문제에서 나온 맨 위 좌측 1,1 을 0,0으로 위치 변환\n",
    "    apple_row, apple_col = input_row - 1, input_col - 1\n",
    "    # 사과 위치를 나타내는 1을 보드에 표시\n",
    "    board[apple_row, apple_col] = 1\n",
    "    # 사과 리스트에 사과 위치 좌표 추가\n",
    "    apple.append((apple_row, apple_col))\n",
    "\n",
    "# 뱀의 방향 회전 정보 입력 받기\n",
    "L = int(input())\n",
    "change_snake = []\n",
    "for _ in range(L):\n",
    "    # 뱀의 방향 회전 정보를 리스트에 추가\n",
    "    dis, direct = input().split()\n",
    "    dis = int(dis)\n",
    "    change_snake.append((dis, direct))\n",
    "\n",
    "# 10000초 이하로 해결\n",
    "change_snake.append ((10001, ''))\n",
    "\n",
    "# 뱀의 북, 동, 남, 서 위치이동\n",
    "change = [(-1, 0), (0,1), (1,0), (0, -1)]\n",
    "\n",
    "# 뱀의 방향 전환\n",
    "def turn_snake(direction):\n",
    "    global turn_index\n",
    "    # 왼쪽 방향으로 회전\n",
    "    if direction == 'L':\n",
    "        if turn_index != 0:\n",
    "            turn_index -= 1\n",
    "        else:\n",
    "            turn_index = 3\n",
    "    else:\n",
    "        if turn_index != 3:\n",
    "            turn_index += 1\n",
    "        else:\n",
    "            turn_index = 0\n",
    "    return\n",
    "\n",
    "# 게임 전 뱀이 있는 위치\n",
    "snake = deque()\n",
    "snake.append((0, 0))\n",
    "\n",
    "# 게임시작 시 뱀의 시작방향 동쪽\n",
    "turn_index = 1\n",
    "\n",
    "# 뱀의 머리 위치\n",
    "x, y = 0, 0\n",
    "\n",
    "# 게임 진행 시간\n",
    "cnt = 0\n",
    "\n",
    "# 방향을 바꿀 때 출발 시간\n",
    "start = 1\n",
    "\n",
    "# 반복문 탈출 명령\n",
    "breaker = False\n",
    "\n",
    "for i in range(len(change_snake)):\n",
    "    # 게임 시작\n",
    "    start = cnt + 1\n",
    "    for _ in range(start, change_snake[i][0]+ 1):\n",
    "        # 이동할 좌표 설정\n",
    "        nx = x + change[turn_index][0]\n",
    "        ny = y + change[turn_index][1]\n",
    "        # 벽 or 자기 자신의 몸과 부딪힐 경우\n",
    "        if nx < 0 or nx >= n  or ny < 0 or ny >= n or (nx, ny) in snake:\n",
    "            cnt += 1\n",
    "            breaker = True\n",
    "            break\n",
    "        # 뱀이 이동할 다음 위치에 사과가 있을 시\n",
    "        if board[nx][ny] == 1:\n",
    "            # 사과 먹기\n",
    "            board[nx][ny] = 0\n",
    "            x, y = nx, ny\n",
    "            # 뱀의 위치 표시\n",
    "            snake.append((x,y))\n",
    "        # 다음 위치에 사과가 없다면\n",
    "        else:\n",
    "            x, y = nx, ny\n",
    "            # 뱀의 위치 표시\n",
    "            snake.popleft()\n",
    "            snake.append((x, y))\n",
    "        cnt += 1\n",
    "        if breaker == True:\n",
    "            break\n",
    "        # 뱀 이동 후 방향 전환\n",
    "        turn_snake(change_snake[i][1])\n",
    "\n",
    "    print(cnt)"
   ]
  }
 ],
 "metadata": {
  "kernelspec": {
   "display_name": "Python 3",
   "language": "python",
   "name": "python3"
  },
  "language_info": {
   "codemirror_mode": {
    "name": "ipython",
    "version": 3
   },
   "file_extension": ".py",
   "mimetype": "text/x-python",
   "name": "python",
   "nbconvert_exporter": "python",
   "pygments_lexer": "ipython3",
   "version": "3.8.16"
  }
 },
 "nbformat": 4,
 "nbformat_minor": 2
}
