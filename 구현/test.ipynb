{
 "cells": [
  {
   "cell_type": "code",
   "execution_count": 2,
   "metadata": {},
   "outputs": [],
   "source": [
    "h = 'K1KA5CB7'"
   ]
  },
  {
   "cell_type": "code",
   "execution_count": 27,
   "metadata": {},
   "outputs": [],
   "source": [
    "n = list(map(str, input()))\n",
    "n.sort()"
   ]
  },
  {
   "cell_type": "code",
   "execution_count": 29,
   "metadata": {},
   "outputs": [],
   "source": [
    "n = list(map(str, input()))\n",
    "n.sort()\n",
    "\n",
    "i = 0\n",
    "sum = 0\n",
    "\n",
    "while True:\n",
    "    if n[i].isdigit() == True:\n",
    "        sum += int(n[i])\n",
    "        i += 1\n",
    "    else:\n",
    "        break\n",
    "\n",
    "result = ''.join(n[i:])\n",
    "if i != 0:\n",
    "    result = result + str(sum)\n"
   ]
  },
  {
   "cell_type": "code",
   "execution_count": 30,
   "metadata": {},
   "outputs": [
    {
     "data": {
      "text/plain": [
       "['1',\n",
       " '2',\n",
       " '4',\n",
       " '4',\n",
       " '9',\n",
       " 'D',\n",
       " 'D',\n",
       " 'D',\n",
       " 'I',\n",
       " 'J',\n",
       " 'J',\n",
       " 'J',\n",
       " 'K',\n",
       " 'L',\n",
       " 'L',\n",
       " 'S',\n",
       " 'S']"
      ]
     },
     "execution_count": 30,
     "metadata": {},
     "output_type": "execute_result"
    }
   ],
   "source": [
    "n"
   ]
  },
  {
   "cell_type": "code",
   "execution_count": 31,
   "metadata": {},
   "outputs": [
    {
     "data": {
      "text/plain": [
       "'DDDIJJJKLLSS20'"
      ]
     },
     "execution_count": 31,
     "metadata": {},
     "output_type": "execute_result"
    }
   ],
   "source": [
    "result"
   ]
  },
  {
   "cell_type": "markdown",
   "metadata": {},
   "source": [
    "## 문자열 압축"
   ]
  },
  {
   "cell_type": "code",
   "execution_count": null,
   "metadata": {},
   "outputs": [],
   "source": [
    "def solution(s):\n",
    "    answer = len(s)\n",
    "    \n",
    "    # 반복 (나누는 단위 : length)\n",
    "    for length in range(1, len(s//2) + 1):\n",
    "        # 같은 거 찾기\n",
    "        slice_list = [s[i:i+length] for i in range(0, len(s), length)]\n",
    "        # slice_list = [''.join(x) for x in zip(*[list(seq[z::length]) for z in range(length)])]\n",
    "        # slice_list = map(''.join, zip(*[iter(s)]*length))\n",
    "        \n",
    "        \n",
    "        \n",
    "    return answer"
   ]
  },
  {
   "cell_type": "code",
   "execution_count": 32,
   "metadata": {},
   "outputs": [],
   "source": [
    "s = \"aabbaccc\""
   ]
  },
  {
   "cell_type": "code",
   "execution_count": 34,
   "metadata": {},
   "outputs": [],
   "source": [
    "answer = len(s)\n",
    "\n",
    "# 반복 (나누는 단위 : length)\n",
    "for length in range(1, len(s)//2 + 1):\n",
    "    # 같은 거 찾기\n",
    "    slice_list = [s[i:i+length] for i in range(0, len(s), length)]\n",
    "    # slice_list = [''.join(x) for x in zip(*[list(seq[z::length]) for z in range(length)])]\n",
    "    # slice_list = map(''.join, zip(*[iter(s)]*length))"
   ]
  },
  {
   "cell_type": "code",
   "execution_count": 38,
   "metadata": {},
   "outputs": [],
   "source": [
    "from collections import Counter"
   ]
  },
  {
   "cell_type": "code",
   "execution_count": 41,
   "metadata": {},
   "outputs": [],
   "source": [
    "d = Counter(slice_list)"
   ]
  },
  {
   "cell_type": "code",
   "execution_count": 53,
   "metadata": {},
   "outputs": [
    {
     "name": "stdout",
     "output_type": "stream",
     "text": [
      "aabb 1\n",
      "accc 1\n"
     ]
    }
   ],
   "source": [
    "for v in d:\n",
    "    print(v, d[v])"
   ]
  },
  {
   "cell_type": "code",
   "execution_count": 57,
   "metadata": {},
   "outputs": [],
   "source": [
    "tmp = 0\n",
    "for v in d:\n",
    "    tmp += len(v)\n",
    "    if d[v] != 1:\n",
    "        tmp += len(d[v])"
   ]
  },
  {
   "cell_type": "code",
   "execution_count": 58,
   "metadata": {},
   "outputs": [
    {
     "data": {
      "text/plain": [
       "8"
      ]
     },
     "execution_count": 58,
     "metadata": {},
     "output_type": "execute_result"
    }
   ],
   "source": [
    "tmp"
   ]
  },
  {
   "cell_type": "code",
   "execution_count": null,
   "metadata": {},
   "outputs": [],
   "source": [
    "answer = len(s)\n",
    "\n",
    "# 반복 (나누는 단위 : length)\n",
    "for length in range(1, len(s)//2 + 1):\n",
    "    # 같은 거 찾기\n",
    "    slice_list = [s[i:i+length] for i in range(0, len(s), length)]\n",
    "    # slice_list = [''.join(x) for x in zip(*[list(seq[z::length]) for z in range(length)])]\n",
    "    # slice_list = map(''.join, zip(*[iter(s)]*length))\n",
    "\n",
    "    d = Counter(slice_list)\n",
    "    tmp = 0\n",
    "    for v in d:\n",
    "        tmp += len(v)\n",
    "        if d[v] != 1:\n",
    "            tmp += len(d[v])\n"
   ]
  },
  {
   "cell_type": "code",
   "execution_count": 99,
   "metadata": {},
   "outputs": [],
   "source": [
    "from collections import Counter\n",
    "\n",
    "def solution(s):\n",
    "\n",
    "    result = len(s)\n",
    "    \n",
    "    # 반복 (나누는 단위 : length)\n",
    "    for length in range(1, len(s)//2 + 1):\n",
    "        # 같은 거 찾기\n",
    "        answer = len(s)\n",
    "        tmp = s[0:length]\n",
    "        for i in range(0+length, len(s), length):\n",
    "            cnt = 1\n",
    "            now = s[i:i+length]\n",
    "            if now  == tmp:\n",
    "                answer -= len(now)\n",
    "                cnt += 1\n",
    "            else:\n",
    "                if cnt > 1:\n",
    "                    answer += len(str(cnt))\n",
    "                tmp = now\n",
    "\n",
    "        if answer < result:\n",
    "            result = answer\n",
    "    return result\n",
    "\n",
    "    "
   ]
  },
  {
   "cell_type": "code",
   "execution_count": 100,
   "metadata": {},
   "outputs": [
    {
     "data": {
      "text/plain": [
       "4"
      ]
     },
     "execution_count": 100,
     "metadata": {},
     "output_type": "execute_result"
    }
   ],
   "source": [
    "solution(s)"
   ]
  },
  {
   "cell_type": "code",
   "execution_count": 101,
   "metadata": {},
   "outputs": [],
   "source": [
    "s = \"aabbaccc\""
   ]
  },
  {
   "cell_type": "code",
   "execution_count": 104,
   "metadata": {},
   "outputs": [],
   "source": [
    "result = len(s)"
   ]
  },
  {
   "cell_type": "code",
   "execution_count": 105,
   "metadata": {},
   "outputs": [],
   "source": [
    "length = 3"
   ]
  },
  {
   "cell_type": "code",
   "execution_count": 106,
   "metadata": {},
   "outputs": [],
   "source": [
    "answer = len(s)\n",
    "tmp = s[0:length]"
   ]
  },
  {
   "cell_type": "code",
   "execution_count": 107,
   "metadata": {},
   "outputs": [
    {
     "data": {
      "text/plain": [
       "'aab'"
      ]
     },
     "execution_count": 107,
     "metadata": {},
     "output_type": "execute_result"
    }
   ],
   "source": [
    "tmp"
   ]
  },
  {
   "cell_type": "code",
   "execution_count": 112,
   "metadata": {},
   "outputs": [],
   "source": [
    "s = \"ababcdcdababcdcd\""
   ]
  },
  {
   "cell_type": "code",
   "execution_count": 114,
   "metadata": {},
   "outputs": [
    {
     "name": "stdout",
     "output_type": "stream",
     "text": [
      "bcd\n",
      "cda\n",
      "bab\n",
      "cdc\n",
      "d\n"
     ]
    }
   ],
   "source": [
    "from collections import Counter\n",
    "\n",
    "def solution(s):\n",
    "    result = len(s)\n",
    "    # 반복 (나누는 단위 : length)\n",
    "    for length in range(1, len(s)//2 + 1):\n",
    "        # 같은 거 찾기\n",
    "        answer = len(s)\n",
    "        tmp = s[0:length]\n",
    "        cnt = 1\n",
    "        for i in range(0+length, len(s), length):\n",
    "            now = s[i:i+length]\n",
    "            if now == tmp:\n",
    "                answer -= len(now)\n",
    "                cnt += 1\n",
    "            else:\n",
    "                if cnt > 1:\n",
    "                    answer += len(str(cnt))\n",
    "                tmp = now\n",
    "                cnt = 1\n",
    "        if cnt > 1:\n",
    "            answer += len(str(cnt))\n",
    "\n",
    "        if answer < result:\n",
    "            result = answer\n",
    "    return result\n",
    "\n",
    "    "
   ]
  },
  {
   "cell_type": "code",
   "execution_count": null,
   "metadata": {},
   "outputs": [],
   "source": [
    "def compress(text, tok_len):\n",
    "    words = [text[i:i+tok_len] for i in range(0, len(text), tok_len)]\n",
    "    res = []\n",
    "    cur_word = words[0]\n",
    "    cur_cnt = 1\n",
    "    for a, b in zip(words, words[1:] + ['']):\n",
    "        if a == b:\n",
    "            cur_cnt += 1\n",
    "        else:\n",
    "            res.append([cur_word, cur_cnt])\n",
    "            cur_word = b\n",
    "            cur_cnt = 1\n",
    "    return sum(len(word) + (len(str(cnt)) if cnt > 1 else 0) for word, cnt in res)\n",
    "\n",
    "def solution(text):\n",
    "    return min(compress(text, tok_len) for tok_len in list(range(1, int(len(text)/2) + 1)) + [len(text)])\n"
   ]
  },
  {
   "cell_type": "code",
   "execution_count": null,
   "metadata": {},
   "outputs": [],
   "source": [
    "\n",
    "    \n",
    "# 반복 (나누는 단위 : length)\n",
    "for length in range(1, len(s)//2 + 1):\n",
    "    # 같은 거 찾기\n",
    "    answer = len(s)\n",
    "    tmp = s[0:length]\n",
    "    for i in range(0+length, len(s), length):\n",
    "        cnt = 1\n",
    "        now = s[i:i+length]\n",
    "        if now  == tmp:\n",
    "            answer -= len(now)\n",
    "            cnt += 1\n",
    "        else:\n",
    "            if cnt > 1:\n",
    "                answer += len(str(cnt))\n",
    "            tmp = now\n",
    "\n",
    "    if answer < result:\n",
    "        result = answer"
   ]
  },
  {
   "cell_type": "code",
   "execution_count": 102,
   "metadata": {},
   "outputs": [],
   "source": [
    "length = 1"
   ]
  },
  {
   "cell_type": "code",
   "execution_count": 103,
   "metadata": {},
   "outputs": [],
   "source": [
    "slice_list = [s[i:i+length] for i in range(0, len(s), length)]\n"
   ]
  },
  {
   "cell_type": "code",
   "execution_count": 88,
   "metadata": {},
   "outputs": [
    {
     "data": {
      "text/plain": [
       "['a', 'a', 'b', 'b', 'a', 'c', 'c', 'c']"
      ]
     },
     "execution_count": 88,
     "metadata": {},
     "output_type": "execute_result"
    }
   ],
   "source": [
    "slice_list"
   ]
  },
  {
   "cell_type": "markdown",
   "metadata": {},
   "source": [
    "## 자물쇠와 열쇠"
   ]
  },
  {
   "cell_type": "code",
   "execution_count": 115,
   "metadata": {},
   "outputs": [],
   "source": [
    "## 90도씩 돌기\n",
    "[[0, 0, 0]       [[0, 1, 0]\n",
    "[1, 0, 0] ->      [1, 0, 0]\n",
    "[0, 1, 1]]       [1, 0, 0]]"
   ]
  },
  {
   "cell_type": "code",
   "execution_count": 116,
   "metadata": {},
   "outputs": [],
   "source": [
    "# 3 * 3\n",
    "\n",
    "x = [[0, 0, 0],\n",
    " [1, 0, 0],\n",
    " [0, 1, 1]] "
   ]
  },
  {
   "cell_type": "code",
   "execution_count": 125,
   "metadata": {},
   "outputs": [
    {
     "data": {
      "text/plain": [
       "[1, 0, 0]"
      ]
     },
     "execution_count": 125,
     "metadata": {},
     "output_type": "execute_result"
    }
   ],
   "source": [
    "x[:][1]"
   ]
  },
  {
   "cell_type": "code",
   "execution_count": 131,
   "metadata": {},
   "outputs": [
    {
     "data": {
      "text/plain": [
       "[[0, 1, 0], [1, 0, 0], [1, 0, 0]]"
      ]
     },
     "execution_count": 131,
     "metadata": {},
     "output_type": "execute_result"
    }
   ],
   "source": [
    "new = []\n",
    "for i in range(len(x)):\n",
    "    tmp = []\n",
    "    for j in reversed(range(len(x))):\n",
    "        tmp.append(x[j][i])\n",
    "    new.append(tmp)\n",
    "new"
   ]
  },
  {
   "cell_type": "code",
   "execution_count": 126,
   "metadata": {},
   "outputs": [],
   "source": [
    "# 행렬 이용한 회전이동"
   ]
  },
  {
   "cell_type": "code",
   "execution_count": null,
   "metadata": {},
   "outputs": [],
   "source": [
    "def rotate_90(m):\n",
    "    N = len(m)\n",
    "    ret = [[0] * N for _ in range(N)]\n",
    "    for r in range(N):\n",
    "        for c in range(N):\n",
    "            ret[c][N-1-r] = m[r][c]\n",
    "    return ret"
   ]
  }
 ],
 "metadata": {
  "kernelspec": {
   "display_name": "Python 3",
   "language": "python",
   "name": "python3"
  },
  "language_info": {
   "codemirror_mode": {
    "name": "ipython",
    "version": 3
   },
   "file_extension": ".py",
   "mimetype": "text/x-python",
   "name": "python",
   "nbconvert_exporter": "python",
   "pygments_lexer": "ipython3",
   "version": "3.8.16"
  }
 },
 "nbformat": 4,
 "nbformat_minor": 2
}
