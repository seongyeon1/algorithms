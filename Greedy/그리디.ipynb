{
  "cells": [
    {
      "cell_type": "markdown",
      "metadata": {
        "id": "qcNepDrNXoE0"
      },
      "source": [
        "## 큰 수의 법칙"
      ]
    },
    {
      "cell_type": "code",
      "execution_count": null,
      "metadata": {
        "colab": {
          "base_uri": "https://localhost:8080/"
        },
        "id": "2M-IiQ4MWBPd",
        "outputId": "6a4085a9-1111-4cf9-c949-504edadf1325"
      },
      "outputs": [
        {
          "name": "stdout",
          "output_type": "stream",
          "text": [
            "5 8 3\n",
            "2 4 5 4 6\n",
            "46\n"
          ]
        }
      ],
      "source": [
        "# N, M, K를 공백으로 구분하여 입력받기\n",
        "n, m, k = map(int, input().split())\n",
        "# N개의 수를 공백으로 구분하여 입력받기\n",
        "data = list(map(int, input().split()))\n",
        "\n",
        "data.sort() # 입력받은 수를 정렬하기\n",
        "first = data[n-1] # 가장 큰 수\n",
        "second = data[n-2]\n",
        "\n",
        "result = 0\n",
        "\n",
        "while True:\n",
        "    for i in range(k):\n",
        "      if m == 0:\n",
        "        \tbreak\n",
        "      result += first\n",
        "      m -= 1\n",
        "    if m == 0:\n",
        "    \tbreak\n",
        "    result += second # 두 번째로 큰 수를 한 번 더하기\n",
        "    m -= 1\n",
        "\n",
        "print(result)"
      ]
    },
    {
      "cell_type": "code",
      "execution_count": null,
      "metadata": {
        "id": "o0pZeUnWXjMW"
      },
      "outputs": [],
      "source": [
        "# N, M, K를 공백으로 구분하여 입력받기\n",
        "n, m, k = map(int, input().split())\n",
        "# N개의 수를 공백으로 구분하여 입력받기\n",
        "data = list(map(int, input().split()))\n",
        "\n",
        "data.sort() # 입력받은 수를 정렬하기\n",
        "\n",
        "first = data[n-1] # 가장 큰 수\n",
        "second = data[n-2]\n",
        "\n",
        "count = int(m / (k+1)) * k\n",
        "count += m % (k+1)\n",
        "\n",
        "result = 0\n",
        "result += count * first\n",
        "result += (m - count) * second\n",
        "\n",
        "print(result)"
      ]
    },
    {
      "cell_type": "markdown",
      "metadata": {
        "id": "OOLgq8prYEls"
      },
      "source": [
        "## Q1. 모험가 길드"
      ]
    },
    {
      "cell_type": "code",
      "execution_count": null,
      "metadata": {
        "colab": {
          "base_uri": "https://localhost:8080/"
        },
        "id": "Egj0G39ZBd6J",
        "outputId": "708b1a40-b681-4953-feb2-9b924105cb5f"
      },
      "outputs": [
        {
          "name": "stdout",
          "output_type": "stream",
          "text": [
            "5\n",
            "2 3 1 2 2 \n",
            "2\n"
          ]
        }
      ],
      "source": [
        "# N을 입력받기\n",
        "n = int(input())\n",
        "# N개의 수를 공백으로 구분하여 입력받기\n",
        "data = list(map(int, input().split()))\n",
        "data.sort()\n",
        "\n",
        "result = 0\n",
        "l = len(data)\n",
        "\n",
        "i = 0\n",
        "while i <= l: # data 길이까지 반복\n",
        "  v = data[i] # data의 공포도 저장해서 공포도의 사람 묶음\n",
        "  # 해당 공포도 더한 만큼 다음 사람들을 그룹으로 묶어서 지나감\n",
        "  if data[i + v - 1] == v:\n",
        "    result += 1 # 그룹하나 증가 시킴\n",
        "    l -= v\n",
        "    i += v\n",
        "\n",
        "print(result)"
      ]
    },
    {
      "cell_type": "markdown",
      "metadata": {
        "id": "FiwuroMf4sJK"
      },
      "source": [
        "해설"
      ]
    },
    {
      "cell_type": "code",
      "execution_count": null,
      "metadata": {
        "id": "3klpNGhQ4q_9"
      },
      "outputs": [],
      "source": [
        "# N을 입력받기\n",
        "n = int(input())\n",
        "# N개의 수를 공백으로 구분하여 입력받기\n",
        "data = list(map(int, input().split()))\n",
        "data.sort()\n",
        "\n",
        "result = 0 # 총 그룹의 수\n",
        "count = 0  # 현재 그룹에 포함된 모험가의 수\n",
        "\n",
        "for i in data:\n",
        "\tcount += 1\n",
        "\tif count >= i:\n",
        "\t\tresult += 1\n",
        "\t\tcount = 0\n",
        "\n",
        "print(result)"
      ]
    },
    {
      "cell_type": "code",
      "execution_count": null,
      "metadata": {
        "colab": {
          "base_uri": "https://localhost:8080/"
        },
        "id": "a_wbasVGH4oE",
        "outputId": "15e45bfd-3248-4298-f71d-0c9a14609314"
      },
      "outputs": [
        {
          "name": "stdout",
          "output_type": "stream",
          "text": [
            "2\n"
          ]
        }
      ],
      "source": [
        "g = 0\n",
        "l = len(data)\n",
        "\n",
        "i = 0\n",
        "while i <= l:\n",
        "  v = data[i]\n",
        "  if data[i + v - 1] == v:\n",
        "    g += 1\n",
        "    l -= v\n",
        "    i += v\n",
        "\n",
        "\n",
        "print(g)"
      ]
    },
    {
      "cell_type": "markdown",
      "metadata": {
        "id": "khvvCVcq4xym"
      },
      "source": [
        "## Q2. 곱하기 혹은 더하기"
      ]
    },
    {
      "cell_type": "code",
      "execution_count": null,
      "metadata": {
        "colab": {
          "base_uri": "https://localhost:8080/"
        },
        "id": "ecjQPQt8vfM4",
        "outputId": "1cf8c220-9c6b-4664-d79d-7f9c58c109dc"
      },
      "outputs": [
        {
          "name": "stdout",
          "output_type": "stream",
          "text": [
            "02984\n",
            "576\n"
          ]
        }
      ],
      "source": [
        "user_input = input()\n",
        "t = int(user_input[0])\n",
        "for i in range(1, len(user_input)):\n",
        "\n",
        "  if (t <= 1 )|(int(user_input[i]) <= 1):\n",
        "    t += int(user_input[i])\n",
        "  else:\n",
        "    t *= int(user_input[i])\n",
        "\n",
        "print(t)"
      ]
    },
    {
      "cell_type": "code",
      "execution_count": null,
      "metadata": {
        "id": "_mjck2vs42ry"
      },
      "outputs": [],
      "source": [
        "data = input()\n",
        "\n",
        "# 첫 번째 문자를 숫자로 변경하여 대입\n",
        "result = int(data[0])\n",
        "\n",
        "for i in range(1, len(data)):\n",
        "\t# 두 수 중에서 하나라도 '0' 혹은 '1'인 경우, 곱하기보다는 더하기 수행\n",
        "\tnum = int(data[i])\n",
        "\tif num <= 1 or result <= 1:\n",
        "\t\tresult += num\n",
        "\telse:\n",
        "\t\tresult *= num\n",
        "\n",
        "print(result)"
      ]
    },
    {
      "cell_type": "markdown",
      "metadata": {
        "id": "l3RpcqvS43_y"
      },
      "source": [
        "## Q3. 문자열 뒤집기"
      ]
    },
    {
      "cell_type": "code",
      "execution_count": null,
      "metadata": {
        "id": "f6aNpzNhPIOF"
      },
      "outputs": [],
      "source": [
        "S = input()\n",
        "i = 1\n",
        "c = 0\n",
        "\n",
        "while i < len(S):\n",
        "  if S[i] != S[i-1]:\n",
        "      c += 1\n",
        "  i += 1\n",
        "\n",
        "print(round(c/2))"
      ]
    },
    {
      "cell_type": "code",
      "execution_count": null,
      "metadata": {
        "id": "foIIvuZ45DWw"
      },
      "outputs": [],
      "source": [
        "data = input()\n",
        "count0 = 0\n",
        "count1 = 0\n",
        "\n",
        "if data[0] == '1':\n",
        "\tcount0 += 1\n",
        "else:\n",
        "\tcount1 += 1\n",
        "\n",
        "for i in range(len(data) - 1):\n",
        "\tif data[i] != data[i+1]:\n",
        "\t\t# 다음 수에서 1로 바뀌는 경우\n",
        "\t\tif data[i + 1] == '1':\n",
        "\t\t\tcount0 += 1\n",
        "\t\t# 다음 수에서 0으로 바뀌는 경우\n",
        "\t\telse:\n",
        "\t\t\tcount1 += 1\n",
        "\n",
        "print(min(count0, count1))"
      ]
    },
    {
      "cell_type": "markdown",
      "metadata": {
        "id": "XO7Sf_Ec5Fdg"
      },
      "source": [
        "## Q4. 만들 수 없는 금액\n"
      ]
    },
    {
      "cell_type": "code",
      "execution_count": null,
      "metadata": {
        "colab": {
          "base_uri": "https://localhost:8080/"
        },
        "id": "7hws-yEaxUxv",
        "outputId": "553886b9-713a-4f24-ecb2-ae592f115fd2"
      },
      "outputs": [
        {
          "name": "stdout",
          "output_type": "stream",
          "text": [
            "5\n",
            "3 2 1 1 9\n"
          ]
        }
      ],
      "source": [
        "n = map(int, input().split())\n",
        "data = list(map(int, input().split()))\n",
        "data.sort()\n",
        "\n",
        "target = 1\n",
        "for x in data:\n",
        "    # 만들 수 없는 금액을 찾았을 때 반복종료\n",
        "    if target < x:\n",
        "      break\n",
        "    target += x\n",
        "\n",
        "# 만들 수 없는 금액 출력\n",
        "print(target)"
      ]
    },
    {
      "cell_type": "markdown",
      "metadata": {
        "id": "pAR57RjK5NM9"
      },
      "source": [
        "## Q5. 볼링공 고르기"
      ]
    },
    {
      "cell_type": "code",
      "execution_count": 1,
      "metadata": {
        "colab": {
          "base_uri": "https://localhost:8080/"
        },
        "id": "4mTrF3DRnrQj",
        "outputId": "b06396b0-0b5c-418e-a305-6bbe276016e7"
      },
      "outputs": [
        {
          "name": "stdout",
          "output_type": "stream",
          "text": [
            "8 5\n",
            "1 5 4 3 2 4 5 2\n",
            "25\n"
          ]
        }
      ],
      "source": [
        "# N, M를 공백으로 구분하여 입력받기\n",
        "n, m = map(int, input().split())\n",
        "# N개의 수를 공백으로 구분하여 입력받기\n",
        "data = list(input().split())\n",
        "data.sort()\n",
        "\n",
        "c = 0\n",
        "for i in range(len(data)):\n",
        "\t# 나와 같은 숫자의 데이터 갯수를 전체에서 뺀다\n",
        "  c += len(data) - data.count(data[i])\n",
        "\n",
        "# 빼고 겹치는거 반 나눈다\n",
        "result = c / 2\n",
        "print(int(result))"
      ]
    },
    {
      "cell_type": "code",
      "execution_count": null,
      "metadata": {
        "id": "IoSqAD-E5SPg"
      },
      "outputs": [],
      "source": [
        "# N, M를 공백으로 구분하여 입력받기\n",
        "n, m = map(int, input().split())\n",
        "# N개의 수를 공백으로 구분하여 입력받기\n",
        "data = list(map(int, input().split()))\n",
        "\n",
        "# 1부터 10까지의 무게를 담을 수 있는 리스트\n",
        "array = [0] * 11\n",
        "for x in data:\n",
        "\t# 각 무게에 해당하는 볼링공의 개수 카운트\n",
        "\tarray[x] += 1\n",
        "\n",
        "result = 0\n",
        "# 1부터 m까지의 각 무게에 대하여 처리\n",
        "for i in range(1, m+1):\n",
        "\tn -= array[i]\n",
        "\tresult += array[i] * n\n",
        "\n",
        "print(result)"
      ]
    },
    {
      "cell_type": "markdown",
      "metadata": {
        "id": "Vo2SVLzD5bct"
      },
      "source": [
        "## Q6. 무지의 먹방 라이브"
      ]
    },
    {
      "cell_type": "code",
      "execution_count": null,
      "metadata": {
        "id": "J5JBSw6q5gXy"
      },
      "outputs": [],
      "source": [
        "def solution(food_times, k):\n",
        "    answer = 0\n",
        "\n",
        "\t\t# 전체 음식 먹은 횟수보다 오류가 크면 -1 반환\n",
        "    if k >= sum(food_times):\n",
        "        return -1\n",
        "\n",
        "    elif k > len(food_times):\n",
        "        # food_time 전체 길이와 비교\n",
        "        l, v = k % len(food_times), k // len(food_times)\n",
        "        c = list(filter(lambda x: x <= v, food_times))\n",
        "        # 원래보다 얼마나 더 이동해야 했는지 생각해보자\n",
        "\t\t\t\t# 인덱스까지 고려해야함\n",
        "        answer = (l + sum(c)) // k + 1\n",
        "\n",
        "    else:\n",
        "        answer = k\n",
        "\n",
        "    return answer"
      ]
    },
    {
      "cell_type": "code",
      "execution_count": null,
      "metadata": {
        "id": "GQ8Ec9DANVRS"
      },
      "outputs": [],
      "source": [
        "# 원래는 나머지인 2에 가있어야하는데 1때문에 하나 뒤에 가있고 이제 거기서"
      ]
    },
    {
      "cell_type": "code",
      "execution_count": null,
      "metadata": {},
      "outputs": [],
      "source": [
        "# Example usage\n",
        "food_times = [3, 1, 2]\n",
        "k = 5\n",
        "result = solution(food_times, k)\n",
        "print(result)\n"
      ]
    },
    {
      "cell_type": "code",
      "execution_count": null,
      "metadata": {
        "colab": {
          "base_uri": "https://localhost:8080/"
        },
        "id": "ZGISVZhePxxG",
        "outputId": "dbbb257d-a48b-44fb-9436-4d488d2750a1"
      },
      "outputs": [
        {
          "name": "stdout",
          "output_type": "stream",
          "text": [
            "[2, 0, 1]\n",
            "1\n"
          ]
        },
        {
          "data": {
            "text/plain": [
              "1"
            ]
          },
          "execution_count": 32,
          "metadata": {},
          "output_type": "execute_result"
        }
      ],
      "source": [
        "def solution(food_times, k):\n",
        "    answer = 0\n",
        "\n",
        "    if k > len(food_times):\n",
        "      # food_time 전체 길이와 비교\n",
        "      l, v = k % len(food_times), k // len(food_times)\n",
        "\n",
        "      fil = [t-v if t > v else 0 for t in food_times]\n",
        "\n",
        "      c = list(filter(lambda x: x <= v, food_times))\n",
        "      # 원래보다 얼마나 더 이동해야 했는지 생각해보자\n",
        "      # 인덱스까지 고려해볼 것\n",
        "      for i in range(l):\n",
        "        if fil[i] == 0:\n",
        "          answer += 1\n",
        "      print(answer)\n",
        "      answer += (l + sum(c))\n",
        "      answer %= len(food_times)\n",
        "\n",
        "    else:\n",
        "      answer = k\n",
        "\n",
        "    return answer\n",
        "\n",
        "solution(food_times, k)"
      ]
    },
    {
      "cell_type": "code",
      "execution_count": null,
      "metadata": {
        "colab": {
          "base_uri": "https://localhost:8080/"
        },
        "id": "SJH7kWTmTsEe",
        "outputId": "3dc700fd-1d2a-4869-a933-83264818a5e0"
      },
      "outputs": [
        {
          "name": "stdout",
          "output_type": "stream",
          "text": [
            "2\n"
          ]
        }
      ],
      "source": [
        "def solution(food_times, k):\n",
        "    if k >= sum(food_times):\n",
        "        return -1\n",
        "\n",
        "    n = len(food_times)\n",
        "    answer = 1\n",
        "\n",
        "    # Calculate the time needed to eat all food once\n",
        "    total_time = sum(food_times)\n",
        "\n",
        "    # Calculate the initial values for l, v, and c\n",
        "    l, v = k % n, k // n\n",
        "    c = [i for i in range(n) if food_times[i] <= v]\n",
        "\n",
        "    # Calculate the initial answer based on l and c\n",
        "    answer = (answer + l + len(c)) % n\n",
        "\n",
        "    while total_time <= k:\n",
        "        # Reduce the time needed to eat all food once\n",
        "        total_time -= n\n",
        "\n",
        "        # Update values for l, v, and c\n",
        "        l, v = k % n, k // n\n",
        "        c = [i for i in range(n) if food_times[i] <= v]\n",
        "\n",
        "        # Calculate the new answer based on l and c\n",
        "        answer = (answer + l + len(c)) % n\n",
        "\n",
        "    return answer + 1  # Convert to 1-based index\n",
        "\n"
      ]
    },
    {
      "cell_type": "code",
      "execution_count": null,
      "metadata": {
        "colab": {
          "base_uri": "https://localhost:8080/"
        },
        "id": "I10f_SyjHF3P",
        "outputId": "663a50be-a7aa-4a8d-9d94-b7c17ffdd08f"
      },
      "outputs": [
        {
          "data": {
            "text/plain": [
              "6"
            ]
          },
          "execution_count": 40,
          "metadata": {},
          "output_type": "execute_result"
        }
      ],
      "source": [
        "sum(food_times)"
      ]
    },
    {
      "cell_type": "markdown",
      "metadata": {
        "id": "hnWS12_M5lci"
      },
      "source": [
        "해설"
      ]
    },
    {
      "cell_type": "code",
      "execution_count": 2,
      "metadata": {
        "id": "YawhZgl55jsl"
      },
      "outputs": [],
      "source": [
        "def solution(food_times, k):\n",
        "    n = len(food_times)\n",
        "\n",
        "    if k >= sum(food_times):\n",
        "        return -1\n",
        "\n",
        "    # Create a list of tuples (food_time, food_number)\n",
        "    foods = [(time, idx + 1) for idx, time in enumerate(food_times)]\n",
        "\n",
        "    # Sort the foods based on their eating times\n",
        "    foods.sort()\n",
        "\n",
        "    idx = 0\n",
        "    while True:\n",
        "        # Calculate the time needed to eat the current food\n",
        "        time_to_eat = (foods[idx][0] - (idx - 1 >= 0 and foods[idx - 1][0])) * (n - idx)\n",
        "\n",
        "        # Check if Muji can finish eating all food in the current round\n",
        "        if k < time_to_eat:\n",
        "            remaining_food = n - idx\n",
        "            order = [food[1] for food in foods[idx:]]\n",
        "            order.sort()\n",
        "            return order[k % remaining_food]\n",
        "\n",
        "        # Update k and move to the next food\n",
        "        k -= time_to_eat\n",
        "        idx += 1"
      ]
    },
    {
      "cell_type": "code",
      "execution_count": 3,
      "metadata": {
        "id": "dRjMxAhiVkzG"
      },
      "outputs": [],
      "source": [
        "import heapq\n",
        "\n",
        "def solution(food_times, k):\n",
        "    # 전체 음식을 먹는 시간보다 k가 크거나 같다면 -1\n",
        "    if sum(food_times) <= k:\n",
        "        return -1\n",
        "\n",
        "    # 시간이 적은 음식부터 빼야 하므로 우선순위 큐를 이용\n",
        "    q = []\n",
        "    for i in range(len(food_times)):\n",
        "        # (음식시간, 음식번호) 형태로 우선순위 큐에 삽입\n",
        "        heapq.heappush(q, (food_times[i], i+1))\n",
        "\n",
        "    sum_value = 0 # 먹기위해 사용한 시간\n",
        "    previous = 0  # 직전에 다 먹은 음식 시간\n",
        "    length = len(food_times) # 남은 음식의 개수\n",
        "\n",
        "    # sum_value + (현재의 음식 시간 - 이전 음식 시간) + 현재 음식 개수와 k 비교\n",
        "    while sum_value + ((q[0][0] - previous) * length) <= k:\n",
        "        now = heapq.heappop(q)[0]\n",
        "        sum_value += (now - previous) * length\n",
        "        length -= 1    # 다 먹은 음식 제외\n",
        "        previous = now # 이전 음식 시간 재설정\n",
        "\n",
        "    # 남은 음식 중에서 몇 번째 음식인지 확인하여 출력\n",
        "    result = sorted(q, key = lambda x: x[1]) # 음식의 번호 기준으로 정렬\n",
        "    return result[(k - sum_value) % length][1]"
      ]
    },
    {
      "cell_type": "code",
      "execution_count": null,
      "metadata": {
        "id": "7MIeuTu45okF"
      },
      "outputs": [],
      "source": []
    }
  ],
  "metadata": {
    "colab": {
      "provenance": []
    },
    "kernelspec": {
      "display_name": "Python 3",
      "name": "python3"
    },
    "language_info": {
      "name": "python"
    }
  },
  "nbformat": 4,
  "nbformat_minor": 0
}
